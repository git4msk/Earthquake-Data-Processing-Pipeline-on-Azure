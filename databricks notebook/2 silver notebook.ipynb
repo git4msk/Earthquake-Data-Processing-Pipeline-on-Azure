{
 "cells": [
  {
   "cell_type": "code",
   "execution_count": 0,
   "metadata": {
    "application/vnd.databricks.v1+cell": {
     "cellMetadata": {
      "byteLimit": 2048000,
      "rowLimit": 10000
     },
     "inputWidgets": {},
     "nuid": "f80d68c7-5669-4397-8f15-2eca9ecae024",
     "showTitle": false,
     "tableResultSettingsMap": {},
     "title": ""
    }
   },
   "outputs": [],
   "source": [
    "from datetime import date,timedelta\n",
    "start_date=date.today() - timedelta(1)\n",
    "bronze_adls=\"abfss://bronze@earthquakedatalake1.dfs.core.windows.net/\"\n",
    "silver_adls=\"abfss://silver@earthquakedatalake1.dfs.core.windows.net/\""
   ]
  },
  {
   "cell_type": "code",
   "execution_count": 0,
   "metadata": {
    "application/vnd.databricks.v1+cell": {
     "cellMetadata": {
      "byteLimit": 2048000,
      "rowLimit": 10000
     },
     "inputWidgets": {},
     "nuid": "fbef645f-18ff-41c7-91f4-a2bad9058e01",
     "showTitle": false,
     "tableResultSettingsMap": {},
     "title": ""
    }
   },
   "outputs": [],
   "source": [
    "from pyspark.sql.functions import col, isnull, when\n",
    "from pyspark.sql.types import TimestampType\n",
    "from datetime import date, timedelta"
   ]
  },
  {
   "cell_type": "code",
   "execution_count": 0,
   "metadata": {
    "application/vnd.databricks.v1+cell": {
     "cellMetadata": {
      "byteLimit": 2048000,
      "rowLimit": 10000
     },
     "inputWidgets": {},
     "nuid": "a47ddfc2-c60f-4a7c-84e4-8f2fbfeb5498",
     "showTitle": false,
     "tableResultSettingsMap": {},
     "title": ""
    }
   },
   "outputs": [],
   "source": [
    "df = spark.read.option(\"multiline\", \"true\").json(f\"{bronze_adls}{start_date}_earthquake_data.json\")"
   ]
  },
  {
   "cell_type": "code",
   "execution_count": 0,
   "metadata": {
    "application/vnd.databricks.v1+cell": {
     "cellMetadata": {
      "byteLimit": 2048000,
      "rowLimit": 10000
     },
     "inputWidgets": {},
     "nuid": "35c40912-48b0-4ee9-bb5d-ce0c2d780fa4",
     "showTitle": false,
     "tableResultSettingsMap": {},
     "title": ""
    }
   },
   "outputs": [
    {
     "output_type": "execute_result",
     "data": {
      "text/plain": [
       "295"
      ]
     },
     "execution_count": 6,
     "metadata": {},
     "output_type": "execute_result"
    }
   ],
   "source": [
    "df.count()\n"
   ]
  },
  {
   "cell_type": "code",
   "execution_count": 0,
   "metadata": {
    "application/vnd.databricks.v1+cell": {
     "cellMetadata": {
      "byteLimit": 2048000,
      "rowLimit": 10000
     },
     "inputWidgets": {},
     "nuid": "6268d178-4af6-4b1f-a823-f82e856b2714",
     "showTitle": false,
     "tableResultSettingsMap": {},
     "title": ""
    }
   },
   "outputs": [
    {
     "output_type": "display_data",
     "data": {
      "text/html": [
       "<style scoped>\n",
       "  .table-result-container {\n",
       "    max-height: 300px;\n",
       "    overflow: auto;\n",
       "  }\n",
       "  table, th, td {\n",
       "    border: 1px solid black;\n",
       "    border-collapse: collapse;\n",
       "  }\n",
       "  th, td {\n",
       "    padding: 5px;\n",
       "  }\n",
       "  th {\n",
       "    text-align: left;\n",
       "  }\n",
       "</style><div class='table-result-container'><table class='table-result'><thead style='background-color: white'><tr><th>geometry</th><th>id</th><th>properties</th><th>type</th></tr></thead><tbody><tr><td>List(List(-117.9233333, 35.3216667, 7.05), Point)</td><td>ci40930655</td><td>List(null, null, 40930655, https://earthquake.usgs.gov/fdsnws/event/1/query?eventid=ci40930655&format=geojson, 0.07462, null, 58, ,ci40930655,, 2.22, ml, null, ci, 44, 22 km NNE of California City, CA, 0.18, 76, ,ci,, automatic, 1744847722170, M 2.2 - 22 km NNE of California City, CA, 0, earthquake, ,nearby-cities,origin,phase-data,scitech-link,, null, 1744847929679, https://earthquake.usgs.gov/earthquakes/eventpage/ci40930655)</td><td>Feature</td></tr><tr><td>List(List(-117.887, 47.35916666666667, -0.61), Point)</td><td>uw62092951</td><td>List(null, null, 62092951, https://earthquake.usgs.gov/fdsnws/event/1/query?eventid=uw62092951&format=geojson, 0.1559, null, 59, ,uw62092951,, 2.43, ml, null, uw, 10, 9 km NE of Sprague, Washington, 0.3, 91, ,uw,, reviewed, 1744847635020, M 2.4 Explosion - 9 km NE of Sprague, Washington, 0, explosion, ,origin,phase-data,, null, 1744849154440, https://earthquake.usgs.gov/earthquakes/eventpage/uw62092951)</td><td>Feature</td></tr><tr><td>List(List(-116.4801667, 33.137, 13.69), Point)</td><td>ci40930639</td><td>List(null, null, 40930639, https://earthquake.usgs.gov/fdsnws/event/1/query?eventid=ci40930639&format=geojson, 0.1133, null, 62, ,ci40930639,, 1.16, ml, null, ci, 44, 13 km ENE of Julian, CA, 0.22, 21, ,ci,, automatic, 1744846571710, M 1.2 - 13 km ENE of Julian, CA, 0, earthquake, ,nearby-cities,origin,phase-data,scitech-link,, null, 1744846809187, https://earthquake.usgs.gov/earthquakes/eventpage/ci40930639)</td><td>Feature</td></tr><tr><td>List(List(-116.6105, 33.056, 13.2), Point)</td><td>ci40930631</td><td>List(null, null, 40930631, https://earthquake.usgs.gov/fdsnws/event/1/query?eventid=ci40930631&format=geojson, 0.02718, null, 36, ,ci40930631,, 1.4, ml, null, ci, 45, 3 km SSW of Julian, CA, 0.17, 30, ,ci,, automatic, 1744846546750, M 1.4 - 3 km SSW of Julian, CA, 0, earthquake, ,nearby-cities,origin,phase-data,scitech-link,, null, 1744846764181, https://earthquake.usgs.gov/earthquakes/eventpage/ci40930631)</td><td>Feature</td></tr><tr><td>List(List(-116.6441667, 33.0926667, 14.34), Point)</td><td>ci40930615</td><td>List(null, null, 40930615, https://earthquake.usgs.gov/fdsnws/event/1/query?eventid=ci40930615&format=geojson, 0.04083, null, 26, ,ci40930615,, 1.22, ml, null, ci, 46, 4 km WNW of Julian, CA, 0.19, 23, ,ci,, automatic, 1744846182950, M 1.2 - 4 km WNW of Julian, CA, 0, earthquake, ,nearby-cities,origin,phase-data,scitech-link,, null, 1744846410140, https://earthquake.usgs.gov/earthquakes/eventpage/ci40930615)</td><td>Feature</td></tr><tr><td>List(List(-104.001, 31.516, 4.5358), Point)</td><td>tx2025hlqa</td><td>List(null, null, 2025hlqa, https://earthquake.usgs.gov/fdsnws/event/1/query?eventid=tx2025hlqa&format=geojson, 0.0, null, 119, ,tx2025hlqa,, 1.5, ml, null, tx, 12, 29 km NW of Toyah, Texas, 0.1, 35, ,tx,, automatic, 1744845595021, M 1.5 - 29 km NW of Toyah, Texas, 0, earthquake, ,origin,phase-data,, null, 1744845870226, https://earthquake.usgs.gov/earthquakes/eventpage/tx2025hlqa)</td><td>Feature</td></tr><tr><td>List(List(-147.4797, 64.9874, 0.1), Point)</td><td>ak0254vora5z</td><td>List(null, null, 0254vora5z, https://earthquake.usgs.gov/fdsnws/event/1/query?eventid=ak0254vora5z&format=geojson, null, null, null, ,ak0254vora5z,, 1.1, ml, null, ak, null, 7 km ENE of Fox, Alaska, 0.86, 19, ,ak,, automatic, 1744845404717, M 1.1 - 7 km ENE of Fox, Alaska, 0, earthquake, ,origin,phase-data,, null, 1744845524016, https://earthquake.usgs.gov/earthquakes/eventpage/ak0254vora5z)</td><td>Feature</td></tr><tr><td>List(List(-117.8688333, 33.8961667, 8.77), Point)</td><td>ci40930583</td><td>List(null, null, 40930583, https://earthquake.usgs.gov/fdsnws/event/1/query?eventid=ci40930583&format=geojson, 0.06315, null, 75, ,ci40930583,, 1.18, ml, null, ci, 36, 3 km N of Placentia, CA, 0.24, 21, ,ci,, automatic, 1744843878330, M 1.2 - 3 km N of Placentia, CA, 0, earthquake, ,nearby-cities,origin,phase-data,scitech-link,, null, 1744844104902, https://earthquake.usgs.gov/earthquakes/eventpage/ci40930583)</td><td>Feature</td></tr><tr><td>List(List(-149.8275, 62.6685, 63.0), Point)</td><td>ak0254vob6i5</td><td>List(null, null, 0254vob6i5, https://earthquake.usgs.gov/fdsnws/event/1/query?eventid=ak0254vob6i5&format=geojson, null, null, null, ,ak0254vob6i5,, 2.2, ml, null, ak, null, 28 km NNE of Chase, Alaska, 0.47, 74, ,ak,, automatic, 1744843292291, M 2.2 - 28 km NNE of Chase, Alaska, 0, earthquake, ,origin,phase-data,, null, 1744843406742, https://earthquake.usgs.gov/earthquakes/eventpage/ak0254vob6i5)</td><td>Feature</td></tr><tr><td>List(List(-117.7775, 36.0291667, 1.43), Point)</td><td>ci40930575</td><td>List(null, null, 40930575, https://earthquake.usgs.gov/fdsnws/event/1/query?eventid=ci40930575&format=geojson, 0.01068, null, 81, ,ci40930575,, 1.49, ml, null, ci, 19, 16 km E of Coso Junction, CA, 0.18, 34, ,ci,, automatic, 1744843235660, M 1.5 - 16 km E of Coso Junction, CA, 0, earthquake, ,nearby-cities,origin,phase-data,scitech-link,, null, 1744843447819, https://earthquake.usgs.gov/earthquakes/eventpage/ci40930575)</td><td>Feature</td></tr><tr><td>List(List(-122.733169555664, 38.7900009155273, 1.52999997138977), Point)</td><td>nc75166521</td><td>List(null, null, 75166521, https://earthquake.usgs.gov/fdsnws/event/1/query?eventid=nc75166521&format=geojson, 0.007303, null, 109, ,nc75166521,, 0.97, md, null, nc, 8, 2 km ENE of The Geysers, CA, 0.01, 14, ,nc,, automatic, 1744842537320, M 1.0 - 2 km ENE of The Geysers, CA, 0, earthquake, ,nearby-cities,origin,phase-data,scitech-link,, null, 1744845440421, https://earthquake.usgs.gov/earthquakes/eventpage/nc75166521)</td><td>Feature</td></tr><tr><td>List(List(-155.266006469727, 19.3876667022705, 0.150000005960464), Point)</td><td>hv74654757</td><td>List(null, null, 74654757, https://earthquake.usgs.gov/fdsnws/event/1/query?eventid=hv74654757&format=geojson, 0.01052, null, 104, ,hv74654757,, 1.94, ml, null, hv, 12, 6 km SSW of Volcano, Hawaii, 0.289999992, 58, ,hv,, automatic, 1744842396920, M 1.9 - 6 km SSW of Volcano, Hawaii, 0, earthquake, ,origin,phase-data,, null, 1744842576990, https://earthquake.usgs.gov/earthquakes/eventpage/hv74654757)</td><td>Feature</td></tr><tr><td>List(List(-115.4796667, 32.737, 12.16), Point)</td><td>ci40930543</td><td>List(null, null, 40930543, https://earthquake.usgs.gov/fdsnws/event/1/query?eventid=ci40930543&format=geojson, 0.07354, null, 75, ,ci40930543,, 1.82, ml, null, ci, 24, 5 km E of Heber, CA, 0.28, 51, ,ci,, automatic, 1744841992360, M 1.8 - 5 km E of Heber, CA, 0, earthquake, ,nearby-cities,origin,phase-data,scitech-link,, null, 1744842214718, https://earthquake.usgs.gov/earthquakes/eventpage/ci40930543)</td><td>Feature</td></tr><tr><td>List(List(-121.542335510254, 37.462833404541, 6.3899998664856), Point)</td><td>nc75166506</td><td>List(null, null, 75166506, https://earthquake.usgs.gov/fdsnws/event/1/query?eventid=nc75166506&format=geojson, 0.0386, null, 76, ,nc75166506,, 0.98, md, null, nc, 10, 27 km ENE of Alum Rock, CA, 0.03, 15, ,nc,, automatic, 1744841920800, M 1.0 - 27 km ENE of Alum Rock, CA, 0, earthquake, ,nearby-cities,origin,phase-data,scitech-link,, null, 1744844236290, https://earthquake.usgs.gov/earthquakes/eventpage/nc75166506)</td><td>Feature</td></tr><tr><td>List(List(-122.817832946777, 38.8356666564941, 1.94000005722046), Point)</td><td>nc75166501</td><td>List(null, null, 75166501, https://earthquake.usgs.gov/fdsnws/event/1/query?eventid=nc75166501&format=geojson, 0.01367, null, 71, ,nc75166501,, 0.84, md, null, nc, 13, 8 km WNW of Cobb, CA, 0.02, 11, ,nc,, automatic, 1744841411850, M 0.8 - 8 km WNW of Cobb, CA, 0, earthquake, ,nearby-cities,origin,phase-data,scitech-link,, null, 1744848737774, https://earthquake.usgs.gov/earthquakes/eventpage/nc75166501)</td><td>Feature</td></tr><tr><td>List(List(-104.142, 31.606, 3.4071), Point)</td><td>tx2025hlnp</td><td>List(null, null, 2025hlnp, https://earthquake.usgs.gov/fdsnws/event/1/query?eventid=tx2025hlnp&format=geojson, 0.1, null, 86, ,tx2025hlnp,, 1.6, ml, null, tx, 11, 46 km NW of Toyah, Texas, 0.8, 39, ,tx,, automatic, 1744841183573, M 1.6 - 46 km NW of Toyah, Texas, 0, earthquake, ,origin,phase-data,, null, 1744841668770, https://earthquake.usgs.gov/earthquakes/eventpage/tx2025hlnp)</td><td>Feature</td></tr><tr><td>List(List(-122.84733581543, 38.8479995727539, 1.69000005722046), Point)</td><td>nc75166496</td><td>List(null, null, 75166496, https://earthquake.usgs.gov/fdsnws/event/1/query?eventid=nc75166496&format=geojson, 0.01319, null, 106, ,nc75166496,, 0.62, md, null, nc, 11, 11 km NW of The Geysers, CA, 0.01, 6, ,nc,, automatic, 1744841148020, M 0.6 - 11 km NW of The Geysers, CA, 0, earthquake, ,nearby-cities,origin,phase-data,scitech-link,, null, 1744847238614, https://earthquake.usgs.gov/earthquakes/eventpage/nc75166496)</td><td>Feature</td></tr><tr><td>List(List(-122.84733581543, 38.8486671447754, 1.4099999666214), Point)</td><td>nc75166491</td><td>List(null, null, 75166491, https://earthquake.usgs.gov/fdsnws/event/1/query?eventid=nc75166491&format=geojson, 0.01367, null, 109, ,nc75166491,, 0.28, md, null, nc, 8, 11 km WNW of Cobb, CA, 0.02, 1, ,nc,, automatic, 1744841140330, M 0.3 - 11 km WNW of Cobb, CA, 0, earthquake, ,nearby-cities,origin,phase-data,scitech-link,, null, 1744845739457, https://earthquake.usgs.gov/earthquakes/eventpage/nc75166491)</td><td>Feature</td></tr><tr><td>List(List(-149.1517, 64.6997, 17.0), Point)</td><td>ak0254vntde8</td><td>List(null, null, 0254vntde8, https://earthquake.usgs.gov/fdsnws/event/1/query?eventid=ak0254vntde8&format=geojson, null, null, null, ,ak0254vntde8,, 1.3, ml, null, ak, null, 10 km N of Four Mile Road, Alaska, 0.65, 26, ,ak,, automatic, 1744840703504, M 1.3 - 10 km N of Four Mile Road, Alaska, 0, earthquake, ,origin,phase-data,, null, 1744840862997, https://earthquake.usgs.gov/earthquakes/eventpage/ak0254vntde8)</td><td>Feature</td></tr><tr><td>List(List(-116.6816, 41.1946, 10.3), Point)</td><td>nn00896331</td><td>List(null, null, 00896331, https://earthquake.usgs.gov/fdsnws/event/1/query?eventid=nn00896331&format=geojson, 0.291, null, null, ,nn00896331,, 2.8, ml, null, nn, 11, 58 km NE of Valmy, Nevada, 0.1273, 121, ,nn,, reviewed, 1744840392150, M 2.8 - 58 km NE of Valmy, Nevada, 0, earthquake, ,origin,phase-data,, null, 1744851686633, https://earthquake.usgs.gov/earthquakes/eventpage/nn00896331)</td><td>Feature</td></tr></tbody></table></div>"
      ]
     },
     "metadata": {
      "application/vnd.databricks.v1+output": {
       "addedWidgets": {},
       "aggData": [],
       "aggError": "",
       "aggOverflow": false,
       "aggSchema": [],
       "aggSeriesLimitReached": false,
       "aggType": "",
       "arguments": {},
       "columnCustomDisplayInfos": {},
       "data": [
        [
         [
          [
           -117.9233333,
           35.3216667,
           7.05
          ],
          "Point"
         ],
         "ci40930655",
         [
          null,
          null,
          "40930655",
          "https://earthquake.usgs.gov/fdsnws/event/1/query?eventid=ci40930655&format=geojson",
          0.07462,
          null,
          58,
          ",ci40930655,",
          2.22,
          "ml",
          null,
          "ci",
          44,
          "22 km NNE of California City, CA",
          0.18,
          76,
          ",ci,",
          "automatic",
          1744847722170,
          "M 2.2 - 22 km NNE of California City, CA",
          0,
          "earthquake",
          ",nearby-cities,origin,phase-data,scitech-link,",
          null,
          1744847929679,
          "https://earthquake.usgs.gov/earthquakes/eventpage/ci40930655"
         ],
         "Feature"
        ],
        [
         [
          [
           -117.887,
           47.35916666666667,
           -0.61
          ],
          "Point"
         ],
         "uw62092951",
         [
          null,
          null,
          "62092951",
          "https://earthquake.usgs.gov/fdsnws/event/1/query?eventid=uw62092951&format=geojson",
          0.1559,
          null,
          59,
          ",uw62092951,",
          2.43,
          "ml",
          null,
          "uw",
          10,
          "9 km NE of Sprague, Washington",
          0.3,
          91,
          ",uw,",
          "reviewed",
          1744847635020,
          "M 2.4 Explosion - 9 km NE of Sprague, Washington",
          0,
          "explosion",
          ",origin,phase-data,",
          null,
          1744849154440,
          "https://earthquake.usgs.gov/earthquakes/eventpage/uw62092951"
         ],
         "Feature"
        ],
        [
         [
          [
           -116.4801667,
           33.137,
           13.69
          ],
          "Point"
         ],
         "ci40930639",
         [
          null,
          null,
          "40930639",
          "https://earthquake.usgs.gov/fdsnws/event/1/query?eventid=ci40930639&format=geojson",
          0.1133,
          null,
          62,
          ",ci40930639,",
          1.16,
          "ml",
          null,
          "ci",
          44,
          "13 km ENE of Julian, CA",
          0.22,
          21,
          ",ci,",
          "automatic",
          1744846571710,
          "M 1.2 - 13 km ENE of Julian, CA",
          0,
          "earthquake",
          ",nearby-cities,origin,phase-data,scitech-link,",
          null,
          1744846809187,
          "https://earthquake.usgs.gov/earthquakes/eventpage/ci40930639"
         ],
         "Feature"
        ],
        [
         [
          [
           -116.6105,
           33.056,
           13.2
          ],
          "Point"
         ],
         "ci40930631",
         [
          null,
          null,
          "40930631",
          "https://earthquake.usgs.gov/fdsnws/event/1/query?eventid=ci40930631&format=geojson",
          0.02718,
          null,
          36,
          ",ci40930631,",
          1.4,
          "ml",
          null,
          "ci",
          45,
          "3 km SSW of Julian, CA",
          0.17,
          30,
          ",ci,",
          "automatic",
          1744846546750,
          "M 1.4 - 3 km SSW of Julian, CA",
          0,
          "earthquake",
          ",nearby-cities,origin,phase-data,scitech-link,",
          null,
          1744846764181,
          "https://earthquake.usgs.gov/earthquakes/eventpage/ci40930631"
         ],
         "Feature"
        ],
        [
         [
          [
           -116.6441667,
           33.0926667,
           14.34
          ],
          "Point"
         ],
         "ci40930615",
         [
          null,
          null,
          "40930615",
          "https://earthquake.usgs.gov/fdsnws/event/1/query?eventid=ci40930615&format=geojson",
          0.04083,
          null,
          26,
          ",ci40930615,",
          1.22,
          "ml",
          null,
          "ci",
          46,
          "4 km WNW of Julian, CA",
          0.19,
          23,
          ",ci,",
          "automatic",
          1744846182950,
          "M 1.2 - 4 km WNW of Julian, CA",
          0,
          "earthquake",
          ",nearby-cities,origin,phase-data,scitech-link,",
          null,
          1744846410140,
          "https://earthquake.usgs.gov/earthquakes/eventpage/ci40930615"
         ],
         "Feature"
        ],
        [
         [
          [
           -104.001,
           31.516,
           4.5358
          ],
          "Point"
         ],
         "tx2025hlqa",
         [
          null,
          null,
          "2025hlqa",
          "https://earthquake.usgs.gov/fdsnws/event/1/query?eventid=tx2025hlqa&format=geojson",
          0.0,
          null,
          119,
          ",tx2025hlqa,",
          1.5,
          "ml",
          null,
          "tx",
          12,
          "29 km NW of Toyah, Texas",
          0.1,
          35,
          ",tx,",
          "automatic",
          1744845595021,
          "M 1.5 - 29 km NW of Toyah, Texas",
          0,
          "earthquake",
          ",origin,phase-data,",
          null,
          1744845870226,
          "https://earthquake.usgs.gov/earthquakes/eventpage/tx2025hlqa"
         ],
         "Feature"
        ],
        [
         [
          [
           -147.4797,
           64.9874,
           0.1
          ],
          "Point"
         ],
         "ak0254vora5z",
         [
          null,
          null,
          "0254vora5z",
          "https://earthquake.usgs.gov/fdsnws/event/1/query?eventid=ak0254vora5z&format=geojson",
          null,
          null,
          null,
          ",ak0254vora5z,",
          1.1,
          "ml",
          null,
          "ak",
          null,
          "7 km ENE of Fox, Alaska",
          0.86,
          19,
          ",ak,",
          "automatic",
          1744845404717,
          "M 1.1 - 7 km ENE of Fox, Alaska",
          0,
          "earthquake",
          ",origin,phase-data,",
          null,
          1744845524016,
          "https://earthquake.usgs.gov/earthquakes/eventpage/ak0254vora5z"
         ],
         "Feature"
        ],
        [
         [
          [
           -117.8688333,
           33.8961667,
           8.77
          ],
          "Point"
         ],
         "ci40930583",
         [
          null,
          null,
          "40930583",
          "https://earthquake.usgs.gov/fdsnws/event/1/query?eventid=ci40930583&format=geojson",
          0.06315,
          null,
          75,
          ",ci40930583,",
          1.18,
          "ml",
          null,
          "ci",
          36,
          "3 km N of Placentia, CA",
          0.24,
          21,
          ",ci,",
          "automatic",
          1744843878330,
          "M 1.2 - 3 km N of Placentia, CA",
          0,
          "earthquake",
          ",nearby-cities,origin,phase-data,scitech-link,",
          null,
          1744844104902,
          "https://earthquake.usgs.gov/earthquakes/eventpage/ci40930583"
         ],
         "Feature"
        ],
        [
         [
          [
           -149.8275,
           62.6685,
           63.0
          ],
          "Point"
         ],
         "ak0254vob6i5",
         [
          null,
          null,
          "0254vob6i5",
          "https://earthquake.usgs.gov/fdsnws/event/1/query?eventid=ak0254vob6i5&format=geojson",
          null,
          null,
          null,
          ",ak0254vob6i5,",
          2.2,
          "ml",
          null,
          "ak",
          null,
          "28 km NNE of Chase, Alaska",
          0.47,
          74,
          ",ak,",
          "automatic",
          1744843292291,
          "M 2.2 - 28 km NNE of Chase, Alaska",
          0,
          "earthquake",
          ",origin,phase-data,",
          null,
          1744843406742,
          "https://earthquake.usgs.gov/earthquakes/eventpage/ak0254vob6i5"
         ],
         "Feature"
        ],
        [
         [
          [
           -117.7775,
           36.0291667,
           1.43
          ],
          "Point"
         ],
         "ci40930575",
         [
          null,
          null,
          "40930575",
          "https://earthquake.usgs.gov/fdsnws/event/1/query?eventid=ci40930575&format=geojson",
          0.01068,
          null,
          81,
          ",ci40930575,",
          1.49,
          "ml",
          null,
          "ci",
          19,
          "16 km E of Coso Junction, CA",
          0.18,
          34,
          ",ci,",
          "automatic",
          1744843235660,
          "M 1.5 - 16 km E of Coso Junction, CA",
          0,
          "earthquake",
          ",nearby-cities,origin,phase-data,scitech-link,",
          null,
          1744843447819,
          "https://earthquake.usgs.gov/earthquakes/eventpage/ci40930575"
         ],
         "Feature"
        ],
        [
         [
          [
           -122.733169555664,
           38.7900009155273,
           1.52999997138977
          ],
          "Point"
         ],
         "nc75166521",
         [
          null,
          null,
          "75166521",
          "https://earthquake.usgs.gov/fdsnws/event/1/query?eventid=nc75166521&format=geojson",
          0.007303,
          null,
          109,
          ",nc75166521,",
          0.97,
          "md",
          null,
          "nc",
          8,
          "2 km ENE of The Geysers, CA",
          0.01,
          14,
          ",nc,",
          "automatic",
          1744842537320,
          "M 1.0 - 2 km ENE of The Geysers, CA",
          0,
          "earthquake",
          ",nearby-cities,origin,phase-data,scitech-link,",
          null,
          1744845440421,
          "https://earthquake.usgs.gov/earthquakes/eventpage/nc75166521"
         ],
         "Feature"
        ],
        [
         [
          [
           -155.266006469727,
           19.3876667022705,
           0.150000005960464
          ],
          "Point"
         ],
         "hv74654757",
         [
          null,
          null,
          "74654757",
          "https://earthquake.usgs.gov/fdsnws/event/1/query?eventid=hv74654757&format=geojson",
          0.01052,
          null,
          104,
          ",hv74654757,",
          1.94,
          "ml",
          null,
          "hv",
          12,
          "6 km SSW of Volcano, Hawaii",
          0.289999992,
          58,
          ",hv,",
          "automatic",
          1744842396920,
          "M 1.9 - 6 km SSW of Volcano, Hawaii",
          0,
          "earthquake",
          ",origin,phase-data,",
          null,
          1744842576990,
          "https://earthquake.usgs.gov/earthquakes/eventpage/hv74654757"
         ],
         "Feature"
        ],
        [
         [
          [
           -115.4796667,
           32.737,
           12.16
          ],
          "Point"
         ],
         "ci40930543",
         [
          null,
          null,
          "40930543",
          "https://earthquake.usgs.gov/fdsnws/event/1/query?eventid=ci40930543&format=geojson",
          0.07354,
          null,
          75,
          ",ci40930543,",
          1.82,
          "ml",
          null,
          "ci",
          24,
          "5 km E of Heber, CA",
          0.28,
          51,
          ",ci,",
          "automatic",
          1744841992360,
          "M 1.8 - 5 km E of Heber, CA",
          0,
          "earthquake",
          ",nearby-cities,origin,phase-data,scitech-link,",
          null,
          1744842214718,
          "https://earthquake.usgs.gov/earthquakes/eventpage/ci40930543"
         ],
         "Feature"
        ],
        [
         [
          [
           -121.542335510254,
           37.462833404541,
           6.3899998664856
          ],
          "Point"
         ],
         "nc75166506",
         [
          null,
          null,
          "75166506",
          "https://earthquake.usgs.gov/fdsnws/event/1/query?eventid=nc75166506&format=geojson",
          0.0386,
          null,
          76,
          ",nc75166506,",
          0.98,
          "md",
          null,
          "nc",
          10,
          "27 km ENE of Alum Rock, CA",
          0.03,
          15,
          ",nc,",
          "automatic",
          1744841920800,
          "M 1.0 - 27 km ENE of Alum Rock, CA",
          0,
          "earthquake",
          ",nearby-cities,origin,phase-data,scitech-link,",
          null,
          1744844236290,
          "https://earthquake.usgs.gov/earthquakes/eventpage/nc75166506"
         ],
         "Feature"
        ],
        [
         [
          [
           -122.817832946777,
           38.8356666564941,
           1.94000005722046
          ],
          "Point"
         ],
         "nc75166501",
         [
          null,
          null,
          "75166501",
          "https://earthquake.usgs.gov/fdsnws/event/1/query?eventid=nc75166501&format=geojson",
          0.01367,
          null,
          71,
          ",nc75166501,",
          0.84,
          "md",
          null,
          "nc",
          13,
          "8 km WNW of Cobb, CA",
          0.02,
          11,
          ",nc,",
          "automatic",
          1744841411850,
          "M 0.8 - 8 km WNW of Cobb, CA",
          0,
          "earthquake",
          ",nearby-cities,origin,phase-data,scitech-link,",
          null,
          1744848737774,
          "https://earthquake.usgs.gov/earthquakes/eventpage/nc75166501"
         ],
         "Feature"
        ],
        [
         [
          [
           -104.142,
           31.606,
           3.4071
          ],
          "Point"
         ],
         "tx2025hlnp",
         [
          null,
          null,
          "2025hlnp",
          "https://earthquake.usgs.gov/fdsnws/event/1/query?eventid=tx2025hlnp&format=geojson",
          0.1,
          null,
          86,
          ",tx2025hlnp,",
          1.6,
          "ml",
          null,
          "tx",
          11,
          "46 km NW of Toyah, Texas",
          0.8,
          39,
          ",tx,",
          "automatic",
          1744841183573,
          "M 1.6 - 46 km NW of Toyah, Texas",
          0,
          "earthquake",
          ",origin,phase-data,",
          null,
          1744841668770,
          "https://earthquake.usgs.gov/earthquakes/eventpage/tx2025hlnp"
         ],
         "Feature"
        ],
        [
         [
          [
           -122.84733581543,
           38.8479995727539,
           1.69000005722046
          ],
          "Point"
         ],
         "nc75166496",
         [
          null,
          null,
          "75166496",
          "https://earthquake.usgs.gov/fdsnws/event/1/query?eventid=nc75166496&format=geojson",
          0.01319,
          null,
          106,
          ",nc75166496,",
          0.62,
          "md",
          null,
          "nc",
          11,
          "11 km NW of The Geysers, CA",
          0.01,
          6,
          ",nc,",
          "automatic",
          1744841148020,
          "M 0.6 - 11 km NW of The Geysers, CA",
          0,
          "earthquake",
          ",nearby-cities,origin,phase-data,scitech-link,",
          null,
          1744847238614,
          "https://earthquake.usgs.gov/earthquakes/eventpage/nc75166496"
         ],
         "Feature"
        ],
        [
         [
          [
           -122.84733581543,
           38.8486671447754,
           1.4099999666214
          ],
          "Point"
         ],
         "nc75166491",
         [
          null,
          null,
          "75166491",
          "https://earthquake.usgs.gov/fdsnws/event/1/query?eventid=nc75166491&format=geojson",
          0.01367,
          null,
          109,
          ",nc75166491,",
          0.28,
          "md",
          null,
          "nc",
          8,
          "11 km WNW of Cobb, CA",
          0.02,
          1,
          ",nc,",
          "automatic",
          1744841140330,
          "M 0.3 - 11 km WNW of Cobb, CA",
          0,
          "earthquake",
          ",nearby-cities,origin,phase-data,scitech-link,",
          null,
          1744845739457,
          "https://earthquake.usgs.gov/earthquakes/eventpage/nc75166491"
         ],
         "Feature"
        ],
        [
         [
          [
           -149.1517,
           64.6997,
           17.0
          ],
          "Point"
         ],
         "ak0254vntde8",
         [
          null,
          null,
          "0254vntde8",
          "https://earthquake.usgs.gov/fdsnws/event/1/query?eventid=ak0254vntde8&format=geojson",
          null,
          null,
          null,
          ",ak0254vntde8,",
          1.3,
          "ml",
          null,
          "ak",
          null,
          "10 km N of Four Mile Road, Alaska",
          0.65,
          26,
          ",ak,",
          "automatic",
          1744840703504,
          "M 1.3 - 10 km N of Four Mile Road, Alaska",
          0,
          "earthquake",
          ",origin,phase-data,",
          null,
          1744840862997,
          "https://earthquake.usgs.gov/earthquakes/eventpage/ak0254vntde8"
         ],
         "Feature"
        ],
        [
         [
          [
           -116.6816,
           41.1946,
           10.3
          ],
          "Point"
         ],
         "nn00896331",
         [
          null,
          null,
          "00896331",
          "https://earthquake.usgs.gov/fdsnws/event/1/query?eventid=nn00896331&format=geojson",
          0.291,
          null,
          null,
          ",nn00896331,",
          2.8,
          "ml",
          null,
          "nn",
          11,
          "58 km NE of Valmy, Nevada",
          0.1273,
          121,
          ",nn,",
          "reviewed",
          1744840392150,
          "M 2.8 - 58 km NE of Valmy, Nevada",
          0,
          "earthquake",
          ",origin,phase-data,",
          null,
          1744851686633,
          "https://earthquake.usgs.gov/earthquakes/eventpage/nn00896331"
         ],
         "Feature"
        ]
       ],
       "datasetInfos": [],
       "dbfsResultPath": null,
       "isJsonSchema": true,
       "metadata": {},
       "overflow": false,
       "plotOptions": {
        "customPlotOptions": {},
        "displayType": "table",
        "pivotAggregation": null,
        "pivotColumns": null,
        "xColumns": null,
        "yColumns": null
       },
       "removedWidgets": [],
       "schema": [
        {
         "metadata": "{}",
         "name": "geometry",
         "type": "{\"type\":\"struct\",\"fields\":[{\"name\":\"coordinates\",\"type\":{\"type\":\"array\",\"elementType\":\"double\",\"containsNull\":true},\"nullable\":true,\"metadata\":{}},{\"name\":\"type\",\"type\":\"string\",\"nullable\":true,\"metadata\":{}}]}"
        },
        {
         "metadata": "{}",
         "name": "id",
         "type": "\"string\""
        },
        {
         "metadata": "{}",
         "name": "properties",
         "type": "{\"type\":\"struct\",\"fields\":[{\"name\":\"alert\",\"type\":\"string\",\"nullable\":true,\"metadata\":{}},{\"name\":\"cdi\",\"type\":\"string\",\"nullable\":true,\"metadata\":{}},{\"name\":\"code\",\"type\":\"string\",\"nullable\":true,\"metadata\":{}},{\"name\":\"detail\",\"type\":\"string\",\"nullable\":true,\"metadata\":{}},{\"name\":\"dmin\",\"type\":\"double\",\"nullable\":true,\"metadata\":{}},{\"name\":\"felt\",\"type\":\"string\",\"nullable\":true,\"metadata\":{}},{\"name\":\"gap\",\"type\":\"long\",\"nullable\":true,\"metadata\":{}},{\"name\":\"ids\",\"type\":\"string\",\"nullable\":true,\"metadata\":{}},{\"name\":\"mag\",\"type\":\"double\",\"nullable\":true,\"metadata\":{}},{\"name\":\"magType\",\"type\":\"string\",\"nullable\":true,\"metadata\":{}},{\"name\":\"mmi\",\"type\":\"string\",\"nullable\":true,\"metadata\":{}},{\"name\":\"net\",\"type\":\"string\",\"nullable\":true,\"metadata\":{}},{\"name\":\"nst\",\"type\":\"long\",\"nullable\":true,\"metadata\":{}},{\"name\":\"place\",\"type\":\"string\",\"nullable\":true,\"metadata\":{}},{\"name\":\"rms\",\"type\":\"double\",\"nullable\":true,\"metadata\":{}},{\"name\":\"sig\",\"type\":\"long\",\"nullable\":true,\"metadata\":{}},{\"name\":\"sources\",\"type\":\"string\",\"nullable\":true,\"metadata\":{}},{\"name\":\"status\",\"type\":\"string\",\"nullable\":true,\"metadata\":{}},{\"name\":\"time\",\"type\":\"long\",\"nullable\":true,\"metadata\":{}},{\"name\":\"title\",\"type\":\"string\",\"nullable\":true,\"metadata\":{}},{\"name\":\"tsunami\",\"type\":\"long\",\"nullable\":true,\"metadata\":{}},{\"name\":\"type\",\"type\":\"string\",\"nullable\":true,\"metadata\":{}},{\"name\":\"types\",\"type\":\"string\",\"nullable\":true,\"metadata\":{}},{\"name\":\"tz\",\"type\":\"string\",\"nullable\":true,\"metadata\":{}},{\"name\":\"updated\",\"type\":\"long\",\"nullable\":true,\"metadata\":{}},{\"name\":\"url\",\"type\":\"string\",\"nullable\":true,\"metadata\":{}}]}"
        },
        {
         "metadata": "{}",
         "name": "type",
         "type": "\"string\""
        }
       ],
       "type": "table"
      }
     },
     "output_type": "display_data"
    }
   ],
   "source": [
    "display(df)\n"
   ]
  },
  {
   "cell_type": "code",
   "execution_count": 0,
   "metadata": {
    "application/vnd.databricks.v1+cell": {
     "cellMetadata": {
      "byteLimit": 2048000,
      "rowLimit": 10000
     },
     "inputWidgets": {},
     "nuid": "a933b494-9a13-4fe4-8022-5f5cfaa9c380",
     "showTitle": false,
     "tableResultSettingsMap": {},
     "title": ""
    }
   },
   "outputs": [
    {
     "output_type": "stream",
     "name": "stdout",
     "output_type": "stream",
     "text": [
      "root\n |-- geometry: struct (nullable = true)\n |    |-- coordinates: array (nullable = true)\n |    |    |-- element: double (containsNull = true)\n |    |-- type: string (nullable = true)\n |-- id: string (nullable = true)\n |-- properties: struct (nullable = true)\n |    |-- alert: string (nullable = true)\n |    |-- cdi: string (nullable = true)\n |    |-- code: string (nullable = true)\n |    |-- detail: string (nullable = true)\n |    |-- dmin: double (nullable = true)\n |    |-- felt: string (nullable = true)\n |    |-- gap: long (nullable = true)\n |    |-- ids: string (nullable = true)\n |    |-- mag: double (nullable = true)\n |    |-- magType: string (nullable = true)\n |    |-- mmi: string (nullable = true)\n |    |-- net: string (nullable = true)\n |    |-- nst: long (nullable = true)\n |    |-- place: string (nullable = true)\n |    |-- rms: double (nullable = true)\n |    |-- sig: long (nullable = true)\n |    |-- sources: string (nullable = true)\n |    |-- status: string (nullable = true)\n |    |-- time: long (nullable = true)\n |    |-- title: string (nullable = true)\n |    |-- tsunami: long (nullable = true)\n |    |-- type: string (nullable = true)\n |    |-- types: string (nullable = true)\n |    |-- tz: string (nullable = true)\n |    |-- updated: long (nullable = true)\n |    |-- url: string (nullable = true)\n |-- type: string (nullable = true)\n\n"
     ]
    }
   ],
   "source": [
    "df.printSchema()"
   ]
  },
  {
   "cell_type": "code",
   "execution_count": 0,
   "metadata": {
    "application/vnd.databricks.v1+cell": {
     "cellMetadata": {
      "byteLimit": 2048000,
      "rowLimit": 10000
     },
     "inputWidgets": {},
     "nuid": "1dab9e8f-8961-4e57-81d4-548031f67c55",
     "showTitle": false,
     "tableResultSettingsMap": {},
     "title": ""
    }
   },
   "outputs": [
    {
     "output_type": "execute_result",
     "data": {
      "text/plain": [
       "DataFrame[geometry: struct<coordinates:array<double>,type:string>, id: string, properties: struct<alert:string,cdi:string,code:string,detail:string,dmin:double,felt:string,gap:bigint,ids:string,mag:double,magType:string,mmi:string,net:string,nst:bigint,place:string,rms:double,sig:bigint,sources:string,status:string,time:bigint,title:string,tsunami:bigint,type:string,types:string,tz:string,updated:bigint,url:string>, type: string]"
      ]
     },
     "execution_count": 9,
     "metadata": {},
     "output_type": "execute_result"
    }
   ],
   "source": [
    "df"
   ]
  },
  {
   "cell_type": "code",
   "execution_count": 0,
   "metadata": {
    "application/vnd.databricks.v1+cell": {
     "cellMetadata": {
      "byteLimit": 2048000,
      "rowLimit": 10000
     },
     "inputWidgets": {},
     "nuid": "905cf01e-80eb-49f3-8e39-e9725226ff29",
     "showTitle": false,
     "tableResultSettingsMap": {},
     "title": ""
    }
   },
   "outputs": [
    {
     "output_type": "execute_result",
     "data": {
      "text/plain": [
       "Row(geometry=Row(coordinates=[-117.9233333, 35.3216667, 7.05], type='Point'), id='ci40930655', properties=Row(alert=None, cdi=None, code='40930655', detail='https://earthquake.usgs.gov/fdsnws/event/1/query?eventid=ci40930655&format=geojson', dmin=0.07462, felt=None, gap=58, ids=',ci40930655,', mag=2.22, magType='ml', mmi=None, net='ci', nst=44, place='22 km NNE of California City, CA', rms=0.18, sig=76, sources=',ci,', status='automatic', time=1744847722170, title='M 2.2 - 22 km NNE of California City, CA', tsunami=0, type='earthquake', types=',nearby-cities,origin,phase-data,scitech-link,', tz=None, updated=1744847929679, url='https://earthquake.usgs.gov/earthquakes/eventpage/ci40930655'), type='Feature')"
      ]
     },
     "execution_count": 10,
     "metadata": {},
     "output_type": "execute_result"
    }
   ],
   "source": [
    "df.head()"
   ]
  },
  {
   "cell_type": "code",
   "execution_count": 0,
   "metadata": {
    "application/vnd.databricks.v1+cell": {
     "cellMetadata": {
      "byteLimit": 2048000,
      "rowLimit": 10000
     },
     "inputWidgets": {},
     "nuid": "7967d451-68bf-42dc-b112-e8a967bb1f47",
     "showTitle": false,
     "tableResultSettingsMap": {},
     "title": ""
    }
   },
   "outputs": [],
   "source": [
    "df = (\n",
    "    df\n",
    "    .select(\n",
    "        'id',\n",
    "        col('geometry.coordinates').getItem(0).alias('longitude'),\n",
    "        col('geometry.coordinates').getItem(1).alias('latitude'),\n",
    "        col('geometry.coordinates').getItem(2).alias('elevation'),\n",
    "        col('properties.title').alias('title'),\n",
    "        col('properties.place').alias('place_description'),\n",
    "        col('properties.sig').alias('sig'),\n",
    "        col('properties.mag').alias('mag'),\n",
    "        col('properties.magType').alias('magType'),\n",
    "        col('properties.time').alias('time'),\n",
    "        col('properties.updated').alias('updated')\n",
    "    )\n",
    ")"
   ]
  },
  {
   "cell_type": "code",
   "execution_count": 0,
   "metadata": {
    "application/vnd.databricks.v1+cell": {
     "cellMetadata": {
      "byteLimit": 2048000,
      "rowLimit": 10000
     },
     "inputWidgets": {},
     "nuid": "6c3c9764-f5b1-4130-acc1-e626f1de4f20",
     "showTitle": false,
     "tableResultSettingsMap": {},
     "title": ""
    }
   },
   "outputs": [
    {
     "output_type": "execute_result",
     "data": {
      "text/plain": [
       "DataFrame[id: string, longitude: double, latitude: double, elevation: double, title: string, place_description: string, sig: bigint, mag: double, magType: string, time: bigint, updated: bigint]"
      ]
     },
     "execution_count": 12,
     "metadata": {},
     "output_type": "execute_result"
    }
   ],
   "source": [
    "df"
   ]
  },
  {
   "cell_type": "code",
   "execution_count": 0,
   "metadata": {
    "application/vnd.databricks.v1+cell": {
     "cellMetadata": {
      "byteLimit": 2048000,
      "rowLimit": 10000
     },
     "inputWidgets": {},
     "nuid": "75ff31d1-2795-4eb6-afc2-db4072a907a2",
     "showTitle": false,
     "tableResultSettingsMap": {},
     "title": ""
    }
   },
   "outputs": [
    {
     "output_type": "execute_result",
     "data": {
      "text/plain": [
       "Row(id='ci40930655', longitude=-117.9233333, latitude=35.3216667, elevation=7.05, title='M 2.2 - 22 km NNE of California City, CA', place_description='22 km NNE of California City, CA', sig=76, mag=2.22, magType='ml', time=1744847722170, updated=1744847929679)"
      ]
     },
     "execution_count": 13,
     "metadata": {},
     "output_type": "execute_result"
    }
   ],
   "source": [
    "df.head()"
   ]
  },
  {
   "cell_type": "code",
   "execution_count": 0,
   "metadata": {
    "application/vnd.databricks.v1+cell": {
     "cellMetadata": {
      "byteLimit": 2048000,
      "rowLimit": 10000
     },
     "inputWidgets": {},
     "nuid": "c6a81b4a-bbb7-421c-82c3-8f54480db3c8",
     "showTitle": false,
     "tableResultSettingsMap": {},
     "title": ""
    }
   },
   "outputs": [],
   "source": [
    "df = (df\n",
    "    .withColumn('longitude', when(isnull(col('longitude')), 0).otherwise(col('longitude')))\n",
    "    .withColumn('latitude', when(isnull(col('latitude')), 0).otherwise(col('latitude')))\n",
    "    .withColumn('elevation', when(isnull(col('elevation')), 0).otherwise(col('elevation')))\n",
    ")"
   ]
  },
  {
   "cell_type": "code",
   "execution_count": 0,
   "metadata": {
    "application/vnd.databricks.v1+cell": {
     "cellMetadata": {
      "byteLimit": 2048000,
      "rowLimit": 10000
     },
     "inputWidgets": {},
     "nuid": "89990327-e470-42bc-8add-76b3da0e7a89",
     "showTitle": false,
     "tableResultSettingsMap": {},
     "title": ""
    }
   },
   "outputs": [],
   "source": [
    "from pyspark.sql.types import TimestampType\n",
    "from pyspark.sql.functions import col\n"
   ]
  },
  {
   "cell_type": "code",
   "execution_count": 0,
   "metadata": {
    "application/vnd.databricks.v1+cell": {
     "cellMetadata": {
      "byteLimit": 2048000,
      "rowLimit": 10000
     },
     "inputWidgets": {},
     "nuid": "3b0f5862-8d35-48fd-bddb-9c2202122ceb",
     "showTitle": false,
     "tableResultSettingsMap": {},
     "title": ""
    }
   },
   "outputs": [],
   "source": [
    "df=(df\n",
    "    .withColumn('time',(col('time')/1000).cast(TimestampType()))\n",
    "    .withColumn('updated',(col('updated')/1000).cast(TimestampType()))\n",
    "    )\n",
    "    \n"
   ]
  },
  {
   "cell_type": "code",
   "execution_count": 0,
   "metadata": {
    "application/vnd.databricks.v1+cell": {
     "cellMetadata": {
      "byteLimit": 2048000,
      "rowLimit": 10000
     },
     "inputWidgets": {},
     "nuid": "17e0a7e8-98ff-4a52-97da-54a68177d851",
     "showTitle": false,
     "tableResultSettingsMap": {},
     "title": ""
    }
   },
   "outputs": [
    {
     "output_type": "execute_result",
     "data": {
      "text/plain": [
       "Row(id='ci40930655', longitude=-117.9233333, latitude=35.3216667, elevation=7.05, title='M 2.2 - 22 km NNE of California City, CA', place_description='22 km NNE of California City, CA', sig=76, mag=2.22, magType='ml', time=datetime.datetime(2025, 4, 16, 23, 55, 22, 170000), updated=datetime.datetime(2025, 4, 16, 23, 58, 49, 679000))"
      ]
     },
     "execution_count": 18,
     "metadata": {},
     "output_type": "execute_result"
    }
   ],
   "source": [
    "\n",
    "df.head()"
   ]
  },
  {
   "cell_type": "code",
   "execution_count": 0,
   "metadata": {
    "application/vnd.databricks.v1+cell": {
     "cellMetadata": {
      "byteLimit": 2048000,
      "rowLimit": 10000
     },
     "inputWidgets": {},
     "nuid": "89a56295-fa40-49dd-9fbd-c0aa8840ebd2",
     "showTitle": false,
     "tableResultSettingsMap": {},
     "title": ""
    }
   },
   "outputs": [],
   "source": [
    "silver_output_path = f\"{silver_adls}earthquake_events_silver/\""
   ]
  },
  {
   "cell_type": "code",
   "execution_count": 0,
   "metadata": {
    "application/vnd.databricks.v1+cell": {
     "cellMetadata": {
      "byteLimit": 2048000,
      "rowLimit": 10000
     },
     "inputWidgets": {},
     "nuid": "5defa9de-0acd-4c3a-96c8-3e783b9d7e3a",
     "showTitle": false,
     "tableResultSettingsMap": {},
     "title": ""
    }
   },
   "outputs": [],
   "source": [
    "df.write.mode('append').parquet(silver_output_path)"
   ]
  },
  {
   "cell_type": "code",
   "execution_count": 0,
   "metadata": {
    "application/vnd.databricks.v1+cell": {
     "cellMetadata": {},
     "inputWidgets": {},
     "nuid": "cd5b4bcc-dd42-489a-8b70-10c1d7e087d2",
     "showTitle": false,
     "tableResultSettingsMap": {},
     "title": ""
    }
   },
   "outputs": [],
   "source": []
  }
 ],
 "metadata": {
  "application/vnd.databricks.v1+notebook": {
   "computePreferences": null,
   "dashboards": [],
   "environmentMetadata": {
    "base_environment": "",
    "environment_version": "2"
   },
   "inputWidgetPreferences": null,
   "language": "python",
   "notebookMetadata": {
    "pythonIndentUnit": 4
   },
   "notebookName": "2 silver notebook",
   "widgets": {}
  },
  "language_info": {
   "name": "python"
  }
 },
 "nbformat": 4,
 "nbformat_minor": 0
}